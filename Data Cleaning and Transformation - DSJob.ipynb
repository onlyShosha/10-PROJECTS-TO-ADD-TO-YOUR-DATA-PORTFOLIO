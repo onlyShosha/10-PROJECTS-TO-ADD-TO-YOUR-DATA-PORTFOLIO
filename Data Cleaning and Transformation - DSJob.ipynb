{
 "cells": [
  {
   "cell_type": "code",
   "execution_count": 81,
   "id": "a5806605-5262-490c-8bf0-ea7a5f6d5b9b",
   "metadata": {},
   "outputs": [],
   "source": [
    "import pandas as pd"
   ]
  },
  {
   "cell_type": "code",
   "execution_count": 82,
   "id": "6e7f902e-c6a2-46a1-b992-8baa0a099b42",
   "metadata": {},
   "outputs": [
    {
     "data": {
      "text/html": [
       "<div>\n",
       "<style scoped>\n",
       "    .dataframe tbody tr th:only-of-type {\n",
       "        vertical-align: middle;\n",
       "    }\n",
       "\n",
       "    .dataframe tbody tr th {\n",
       "        vertical-align: top;\n",
       "    }\n",
       "\n",
       "    .dataframe thead th {\n",
       "        text-align: right;\n",
       "    }\n",
       "</style>\n",
       "<table border=\"1\" class=\"dataframe\">\n",
       "  <thead>\n",
       "    <tr style=\"text-align: right;\">\n",
       "      <th></th>\n",
       "      <th>index</th>\n",
       "      <th>Job Title</th>\n",
       "      <th>Salary Estimate</th>\n",
       "      <th>Job Description</th>\n",
       "      <th>Rating</th>\n",
       "      <th>Company Name</th>\n",
       "      <th>Location</th>\n",
       "      <th>Headquarters</th>\n",
       "      <th>Size</th>\n",
       "      <th>Founded</th>\n",
       "      <th>Type of ownership</th>\n",
       "      <th>Industry</th>\n",
       "      <th>Sector</th>\n",
       "      <th>Revenue</th>\n",
       "      <th>Competitors</th>\n",
       "    </tr>\n",
       "  </thead>\n",
       "  <tbody>\n",
       "    <tr>\n",
       "      <th>0</th>\n",
       "      <td>0</td>\n",
       "      <td>Sr Data Scientist</td>\n",
       "      <td>$137K-$171K (Glassdoor est.)</td>\n",
       "      <td>Description\\n\\nThe Senior Data Scientist is re...</td>\n",
       "      <td>3.1</td>\n",
       "      <td>Healthfirst\\n3.1</td>\n",
       "      <td>New York, NY</td>\n",
       "      <td>New York, NY</td>\n",
       "      <td>1001 to 5000 employees</td>\n",
       "      <td>1993</td>\n",
       "      <td>Nonprofit Organization</td>\n",
       "      <td>Insurance Carriers</td>\n",
       "      <td>Insurance</td>\n",
       "      <td>Unknown / Non-Applicable</td>\n",
       "      <td>EmblemHealth, UnitedHealth Group, Aetna</td>\n",
       "    </tr>\n",
       "    <tr>\n",
       "      <th>1</th>\n",
       "      <td>1</td>\n",
       "      <td>Data Scientist</td>\n",
       "      <td>$137K-$171K (Glassdoor est.)</td>\n",
       "      <td>Secure our Nation, Ignite your Future\\n\\nJoin ...</td>\n",
       "      <td>4.2</td>\n",
       "      <td>ManTech\\n4.2</td>\n",
       "      <td>Chantilly, VA</td>\n",
       "      <td>Herndon, VA</td>\n",
       "      <td>5001 to 10000 employees</td>\n",
       "      <td>1968</td>\n",
       "      <td>Company - Public</td>\n",
       "      <td>Research &amp; Development</td>\n",
       "      <td>Business Services</td>\n",
       "      <td>$1 to $2 billion (USD)</td>\n",
       "      <td>-1</td>\n",
       "    </tr>\n",
       "    <tr>\n",
       "      <th>2</th>\n",
       "      <td>2</td>\n",
       "      <td>Data Scientist</td>\n",
       "      <td>$137K-$171K (Glassdoor est.)</td>\n",
       "      <td>Overview\\n\\n\\nAnalysis Group is one of the lar...</td>\n",
       "      <td>3.8</td>\n",
       "      <td>Analysis Group\\n3.8</td>\n",
       "      <td>Boston, MA</td>\n",
       "      <td>Boston, MA</td>\n",
       "      <td>1001 to 5000 employees</td>\n",
       "      <td>1981</td>\n",
       "      <td>Private Practice / Firm</td>\n",
       "      <td>Consulting</td>\n",
       "      <td>Business Services</td>\n",
       "      <td>$100 to $500 million (USD)</td>\n",
       "      <td>-1</td>\n",
       "    </tr>\n",
       "  </tbody>\n",
       "</table>\n",
       "</div>"
      ],
      "text/plain": [
       "   index          Job Title               Salary Estimate  \\\n",
       "0      0  Sr Data Scientist  $137K-$171K (Glassdoor est.)   \n",
       "1      1     Data Scientist  $137K-$171K (Glassdoor est.)   \n",
       "2      2     Data Scientist  $137K-$171K (Glassdoor est.)   \n",
       "\n",
       "                                     Job Description  Rating  \\\n",
       "0  Description\\n\\nThe Senior Data Scientist is re...     3.1   \n",
       "1  Secure our Nation, Ignite your Future\\n\\nJoin ...     4.2   \n",
       "2  Overview\\n\\n\\nAnalysis Group is one of the lar...     3.8   \n",
       "\n",
       "          Company Name       Location  Headquarters                     Size  \\\n",
       "0     Healthfirst\\n3.1   New York, NY  New York, NY   1001 to 5000 employees   \n",
       "1         ManTech\\n4.2  Chantilly, VA   Herndon, VA  5001 to 10000 employees   \n",
       "2  Analysis Group\\n3.8     Boston, MA    Boston, MA   1001 to 5000 employees   \n",
       "\n",
       "   Founded        Type of ownership                Industry  \\\n",
       "0     1993   Nonprofit Organization      Insurance Carriers   \n",
       "1     1968         Company - Public  Research & Development   \n",
       "2     1981  Private Practice / Firm              Consulting   \n",
       "\n",
       "              Sector                     Revenue  \\\n",
       "0          Insurance    Unknown / Non-Applicable   \n",
       "1  Business Services      $1 to $2 billion (USD)   \n",
       "2  Business Services  $100 to $500 million (USD)   \n",
       "\n",
       "                               Competitors  \n",
       "0  EmblemHealth, UnitedHealth Group, Aetna  \n",
       "1                                       -1  \n",
       "2                                       -1  "
      ]
     },
     "execution_count": 82,
     "metadata": {},
     "output_type": "execute_result"
    }
   ],
   "source": [
    "df = pd.read_csv('Uncleaned_DS_jobs.csv')\n",
    "df.head(3)"
   ]
  },
  {
   "cell_type": "code",
   "execution_count": 83,
   "id": "e9df5a2c-9d19-4166-a90f-ec1686237e6c",
   "metadata": {},
   "outputs": [
    {
     "name": "stdout",
     "output_type": "stream",
     "text": [
      "<class 'pandas.core.frame.DataFrame'>\n",
      "RangeIndex: 672 entries, 0 to 671\n",
      "Data columns (total 15 columns):\n",
      " #   Column             Non-Null Count  Dtype  \n",
      "---  ------             --------------  -----  \n",
      " 0   index              672 non-null    int64  \n",
      " 1   Job Title          672 non-null    object \n",
      " 2   Salary Estimate    672 non-null    object \n",
      " 3   Job Description    672 non-null    object \n",
      " 4   Rating             672 non-null    float64\n",
      " 5   Company Name       672 non-null    object \n",
      " 6   Location           672 non-null    object \n",
      " 7   Headquarters       672 non-null    object \n",
      " 8   Size               672 non-null    object \n",
      " 9   Founded            672 non-null    int64  \n",
      " 10  Type of ownership  672 non-null    object \n",
      " 11  Industry           672 non-null    object \n",
      " 12  Sector             672 non-null    object \n",
      " 13  Revenue            672 non-null    object \n",
      " 14  Competitors        672 non-null    object \n",
      "dtypes: float64(1), int64(2), object(12)\n",
      "memory usage: 78.9+ KB\n"
     ]
    }
   ],
   "source": [
    "df.info()"
   ]
  },
  {
   "cell_type": "markdown",
   "id": "9ec88dbf-7442-401b-ae6a-1856a6945701",
   "metadata": {
    "jp-MarkdownHeadingCollapsed": true
   },
   "source": [
    "### Q1 Can you make salary column into integers"
   ]
  },
  {
   "cell_type": "code",
   "execution_count": 84,
   "id": "0fbb9fdf-0a24-4d64-aad0-7630ba78bfc7",
   "metadata": {},
   "outputs": [
    {
     "data": {
      "text/plain": [
       "Salary Estimate\n",
       "$79K-$131K (Glassdoor est.)     32\n",
       "$99K-$132K (Glassdoor est.)     32\n",
       "$75K-$131K (Glassdoor est.)     32\n",
       "$137K-$171K (Glassdoor est.)    30\n",
       "$90K-$109K (Glassdoor est.)     30\n",
       "$56K-$97K (Glassdoor est.)      22\n",
       "$79K-$106K (Glassdoor est.)     22\n",
       "$90K-$124K (Glassdoor est.)     22\n",
       "$110K-$163K (Glassdoor est.)    21\n",
       "$92K-$155K (Glassdoor est.)     21\n",
       "$138K-$158K (Glassdoor est.)    21\n",
       "$128K-$201K (Glassdoor est.)    21\n",
       "$212K-$331K (Glassdoor est.)    21\n",
       "$95K-$119K (Glassdoor est.)     21\n",
       "$69K-$116K (Glassdoor est.)     21\n",
       "$124K-$198K (Glassdoor est.)    21\n",
       "$112K-$116K (Glassdoor est.)    21\n",
       "$122K-$146K (Glassdoor est.)    21\n",
       "$91K-$150K (Glassdoor est.)     21\n",
       "$101K-$165K (Glassdoor est.)    21\n",
       "$79K-$147K (Glassdoor est.)     20\n",
       "$31K-$56K (Glassdoor est.)      20\n",
       "$145K-$225K(Employer est.)      20\n",
       "$141K-$225K (Glassdoor est.)    20\n",
       "$66K-$112K (Glassdoor est.)     20\n",
       "$80K-$132K (Glassdoor est.)     20\n",
       "$87K-$141K (Glassdoor est.)     20\n",
       "$105K-$167K (Glassdoor est.)    20\n",
       "$79K-$133K (Glassdoor est.)     19\n",
       "$71K-$123K (Glassdoor est.)     19\n",
       "Name: count, dtype: int64"
      ]
     },
     "execution_count": 84,
     "metadata": {},
     "output_type": "execute_result"
    }
   ],
   "source": [
    "df['Salary Estimate'].value_counts()"
   ]
  },
  {
   "cell_type": "code",
   "execution_count": 85,
   "id": "846f4d66-2880-46bc-b2c9-31588b7bb255",
   "metadata": {},
   "outputs": [],
   "source": [
    "df[['Min_salary','Max_salary']] = df['Salary Estimate'].str.split('-', expand=True)"
   ]
  },
  {
   "cell_type": "code",
   "execution_count": 86,
   "id": "e1fe1799-3c88-421c-a63f-1650c9568a34",
   "metadata": {},
   "outputs": [],
   "source": [
    "df['Min_salary'] = df['Min_salary'].str.replace(\"$\",\"\")\n",
    "df['Max_salary'] = df['Max_salary'].str.replace(\"$\",\"\")"
   ]
  },
  {
   "cell_type": "code",
   "execution_count": 87,
   "id": "9c7e6817-654b-42fe-9358-9e3b2de8712e",
   "metadata": {},
   "outputs": [],
   "source": [
    "df[['Max_salary','unk']] = df['Max_salary'].str.split('(', expand=True)\n",
    "df.drop(columns='unk', inplace=True)"
   ]
  },
  {
   "cell_type": "code",
   "execution_count": 88,
   "id": "031f3227-4a7c-4622-a189-73df5b8ebb22",
   "metadata": {},
   "outputs": [],
   "source": [
    "mp = {'K':' * 10**3', 'M':' * 10**6', 'B':' * 10**9', 't':' * 10**12', 'q':' * 10**15', 'Q':' * 10**15'}\n",
    "df['Min_salary'] = df['Min_salary'].replace(mp.keys(), mp.values(), regex=True).map(pd.eval).astype(int)\n",
    "df['Max_salary'] = df['Max_salary'].replace(mp.keys(), mp.values(), regex=True).map(pd.eval).astype(int)"
   ]
  },
  {
   "cell_type": "code",
   "execution_count": 89,
   "id": "056255d8-efab-4bba-9430-d8933dabd3f5",
   "metadata": {},
   "outputs": [
    {
     "data": {
      "text/html": [
       "<div>\n",
       "<style scoped>\n",
       "    .dataframe tbody tr th:only-of-type {\n",
       "        vertical-align: middle;\n",
       "    }\n",
       "\n",
       "    .dataframe tbody tr th {\n",
       "        vertical-align: top;\n",
       "    }\n",
       "\n",
       "    .dataframe thead th {\n",
       "        text-align: right;\n",
       "    }\n",
       "</style>\n",
       "<table border=\"1\" class=\"dataframe\">\n",
       "  <thead>\n",
       "    <tr style=\"text-align: right;\">\n",
       "      <th></th>\n",
       "      <th>Min_salary</th>\n",
       "      <th>Max_salary</th>\n",
       "    </tr>\n",
       "  </thead>\n",
       "  <tbody>\n",
       "    <tr>\n",
       "      <th>0</th>\n",
       "      <td>137000</td>\n",
       "      <td>171000</td>\n",
       "    </tr>\n",
       "    <tr>\n",
       "      <th>1</th>\n",
       "      <td>137000</td>\n",
       "      <td>171000</td>\n",
       "    </tr>\n",
       "    <tr>\n",
       "      <th>2</th>\n",
       "      <td>137000</td>\n",
       "      <td>171000</td>\n",
       "    </tr>\n",
       "  </tbody>\n",
       "</table>\n",
       "</div>"
      ],
      "text/plain": [
       "   Min_salary  Max_salary\n",
       "0      137000      171000\n",
       "1      137000      171000\n",
       "2      137000      171000"
      ]
     },
     "execution_count": 89,
     "metadata": {},
     "output_type": "execute_result"
    }
   ],
   "source": [
    "df[['Min_salary','Max_salary']].head(3)"
   ]
  },
  {
   "cell_type": "code",
   "execution_count": 90,
   "id": "10d6eb40-025e-40ad-8b43-23695ea60106",
   "metadata": {},
   "outputs": [
    {
     "data": {
      "text/plain": [
       "dtype('int32')"
      ]
     },
     "execution_count": 90,
     "metadata": {},
     "output_type": "execute_result"
    }
   ],
   "source": [
    "df.Min_salary.dtypes"
   ]
  },
  {
   "cell_type": "markdown",
   "id": "06ab254c-1a59-4ea9-b2a6-7cd40ae1b7a5",
   "metadata": {
    "jp-MarkdownHeadingCollapsed": true
   },
   "source": [
    "### Q2 How can you remove the numbers from company"
   ]
  },
  {
   "cell_type": "code",
   "execution_count": 91,
   "id": "a2ef54a8-0692-4b1b-9fe6-55f6c32960a1",
   "metadata": {},
   "outputs": [],
   "source": [
    "df[['Company Name','unk']] = df['Company Name'].str.split(\"\\n\", expand=True)\n",
    "df.drop(columns='unk', inplace=True)"
   ]
  },
  {
   "cell_type": "code",
   "execution_count": 92,
   "id": "7d1cea3c-ca58-4059-a6e4-245636741335",
   "metadata": {},
   "outputs": [
    {
     "data": {
      "text/plain": [
       "0       Healthfirst\n",
       "1           ManTech\n",
       "2    Analysis Group\n",
       "Name: Company Name, dtype: object"
      ]
     },
     "execution_count": 92,
     "metadata": {},
     "output_type": "execute_result"
    }
   ],
   "source": [
    "df['Company Name'].head(3)"
   ]
  },
  {
   "cell_type": "markdown",
   "id": "b19e0240-a6aa-4014-8b08-2916ebd7bca3",
   "metadata": {
    "jp-MarkdownHeadingCollapsed": true
   },
   "source": [
    "### Q3 How can you create some new features?"
   ]
  },
  {
   "cell_type": "code",
   "execution_count": 93,
   "id": "8939a21e-bff9-4f83-a420-6ed6b73a9fea",
   "metadata": {},
   "outputs": [],
   "source": [
    "df[['Location','state', '2']] = df['Location'].str.split(\", \", expand=True)"
   ]
  },
  {
   "cell_type": "code",
   "execution_count": 94,
   "id": "071c890a-a503-4319-8f22-670db80c2721",
   "metadata": {},
   "outputs": [],
   "source": [
    "df.drop(columns='2', inplace=True)"
   ]
  },
  {
   "cell_type": "code",
   "execution_count": 95,
   "id": "f2dfb569-85f8-4ee2-b953-20aa9b3eb032",
   "metadata": {},
   "outputs": [
    {
     "data": {
      "text/plain": [
       "0      NY\n",
       "1      VA\n",
       "2      MA\n",
       "3      MA\n",
       "4      NY\n",
       "       ..\n",
       "667    NJ\n",
       "668    CA\n",
       "669    CA\n",
       "670    CA\n",
       "671    NY\n",
       "Name: state, Length: 672, dtype: object"
      ]
     },
     "execution_count": 95,
     "metadata": {},
     "output_type": "execute_result"
    }
   ],
   "source": [
    "df.state"
   ]
  },
  {
   "cell_type": "code",
   "execution_count": 96,
   "id": "dc2fe102-dfe2-4004-9f05-8b1c01f25ad2",
   "metadata": {},
   "outputs": [],
   "source": [
    "State = pd.read_excel('State_US.xlsx')\n",
    "\n",
    "State = State.rename(columns={\"State\" : \"state_full\", \"State2\" : \"state\"})"
   ]
  },
  {
   "cell_type": "code",
   "execution_count": 97,
   "id": "c3c1fdf8-f5a6-4cb4-9aa6-3b858e0be1f1",
   "metadata": {},
   "outputs": [],
   "source": [
    "df = pd.merge(df,\n",
    "         State[['state_full','state']],\n",
    "         on = ['state'],\n",
    "         how = 'left')"
   ]
  },
  {
   "cell_type": "code",
   "execution_count": 98,
   "id": "323eb9f0-50eb-4494-a895-6b748ea42196",
   "metadata": {},
   "outputs": [
    {
     "data": {
      "text/html": [
       "<div>\n",
       "<style scoped>\n",
       "    .dataframe tbody tr th:only-of-type {\n",
       "        vertical-align: middle;\n",
       "    }\n",
       "\n",
       "    .dataframe tbody tr th {\n",
       "        vertical-align: top;\n",
       "    }\n",
       "\n",
       "    .dataframe thead th {\n",
       "        text-align: right;\n",
       "    }\n",
       "</style>\n",
       "<table border=\"1\" class=\"dataframe\">\n",
       "  <thead>\n",
       "    <tr style=\"text-align: right;\">\n",
       "      <th></th>\n",
       "      <th>index</th>\n",
       "      <th>Job Title</th>\n",
       "      <th>Salary Estimate</th>\n",
       "      <th>Job Description</th>\n",
       "      <th>Rating</th>\n",
       "      <th>Company Name</th>\n",
       "      <th>Location</th>\n",
       "      <th>Headquarters</th>\n",
       "      <th>Size</th>\n",
       "      <th>Founded</th>\n",
       "      <th>Type of ownership</th>\n",
       "      <th>Industry</th>\n",
       "      <th>Sector</th>\n",
       "      <th>Revenue</th>\n",
       "      <th>Competitors</th>\n",
       "      <th>Min_salary</th>\n",
       "      <th>Max_salary</th>\n",
       "      <th>state</th>\n",
       "      <th>state_full</th>\n",
       "    </tr>\n",
       "  </thead>\n",
       "  <tbody>\n",
       "    <tr>\n",
       "      <th>0</th>\n",
       "      <td>0</td>\n",
       "      <td>Sr Data Scientist</td>\n",
       "      <td>$137K-$171K (Glassdoor est.)</td>\n",
       "      <td>Description\\n\\nThe Senior Data Scientist is re...</td>\n",
       "      <td>3.1</td>\n",
       "      <td>Healthfirst</td>\n",
       "      <td>New York</td>\n",
       "      <td>New York, NY</td>\n",
       "      <td>1001 to 5000 employees</td>\n",
       "      <td>1993</td>\n",
       "      <td>Nonprofit Organization</td>\n",
       "      <td>Insurance Carriers</td>\n",
       "      <td>Insurance</td>\n",
       "      <td>Unknown / Non-Applicable</td>\n",
       "      <td>EmblemHealth, UnitedHealth Group, Aetna</td>\n",
       "      <td>137000</td>\n",
       "      <td>171000</td>\n",
       "      <td>NY</td>\n",
       "      <td>New York</td>\n",
       "    </tr>\n",
       "    <tr>\n",
       "      <th>1</th>\n",
       "      <td>1</td>\n",
       "      <td>Data Scientist</td>\n",
       "      <td>$137K-$171K (Glassdoor est.)</td>\n",
       "      <td>Secure our Nation, Ignite your Future\\n\\nJoin ...</td>\n",
       "      <td>4.2</td>\n",
       "      <td>ManTech</td>\n",
       "      <td>Chantilly</td>\n",
       "      <td>Herndon, VA</td>\n",
       "      <td>5001 to 10000 employees</td>\n",
       "      <td>1968</td>\n",
       "      <td>Company - Public</td>\n",
       "      <td>Research &amp; Development</td>\n",
       "      <td>Business Services</td>\n",
       "      <td>$1 to $2 billion (USD)</td>\n",
       "      <td>-1</td>\n",
       "      <td>137000</td>\n",
       "      <td>171000</td>\n",
       "      <td>VA</td>\n",
       "      <td>Virginia</td>\n",
       "    </tr>\n",
       "  </tbody>\n",
       "</table>\n",
       "</div>"
      ],
      "text/plain": [
       "   index          Job Title               Salary Estimate  \\\n",
       "0      0  Sr Data Scientist  $137K-$171K (Glassdoor est.)   \n",
       "1      1     Data Scientist  $137K-$171K (Glassdoor est.)   \n",
       "\n",
       "                                     Job Description  Rating Company Name  \\\n",
       "0  Description\\n\\nThe Senior Data Scientist is re...     3.1  Healthfirst   \n",
       "1  Secure our Nation, Ignite your Future\\n\\nJoin ...     4.2      ManTech   \n",
       "\n",
       "    Location  Headquarters                     Size  Founded  \\\n",
       "0   New York  New York, NY   1001 to 5000 employees     1993   \n",
       "1  Chantilly   Herndon, VA  5001 to 10000 employees     1968   \n",
       "\n",
       "        Type of ownership                Industry             Sector  \\\n",
       "0  Nonprofit Organization      Insurance Carriers          Insurance   \n",
       "1        Company - Public  Research & Development  Business Services   \n",
       "\n",
       "                    Revenue                              Competitors  \\\n",
       "0  Unknown / Non-Applicable  EmblemHealth, UnitedHealth Group, Aetna   \n",
       "1    $1 to $2 billion (USD)                                       -1   \n",
       "\n",
       "   Min_salary  Max_salary state state_full  \n",
       "0      137000      171000    NY   New York  \n",
       "1      137000      171000    VA   Virginia  "
      ]
     },
     "execution_count": 98,
     "metadata": {},
     "output_type": "execute_result"
    }
   ],
   "source": [
    "df.head(2)"
   ]
  }
 ],
 "metadata": {
  "kernelspec": {
   "display_name": "Python 3 (ipykernel)",
   "language": "python",
   "name": "python3"
  },
  "language_info": {
   "codemirror_mode": {
    "name": "ipython",
    "version": 3
   },
   "file_extension": ".py",
   "mimetype": "text/x-python",
   "name": "python",
   "nbconvert_exporter": "python",
   "pygments_lexer": "ipython3",
   "version": "3.11.5"
  }
 },
 "nbformat": 4,
 "nbformat_minor": 5
}
