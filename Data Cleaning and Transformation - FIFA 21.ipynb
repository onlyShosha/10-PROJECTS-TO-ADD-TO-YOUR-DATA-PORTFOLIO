{
 "cells": [
  {
   "cell_type": "markdown",
   "id": "c13346a9-72e5-4764-8cf7-26b9a1cb4fd2",
   "metadata": {},
   "source": [
    "# PROJECT 1\n",
    "## DATA CLEANING AND TRANSFORMATION"
   ]
  },
  {
   "cell_type": "code",
   "execution_count": 1,
   "id": "c84540a1-6b8e-4889-a0e7-a09f364a21a5",
   "metadata": {},
   "outputs": [
    {
     "data": {
      "text/html": [
       "<img src=\"Data with mo.png\" width=\"500\" height=\"200\"/>"
      ],
      "text/plain": [
       "<IPython.core.display.Image object>"
      ]
     },
     "execution_count": 1,
     "metadata": {},
     "output_type": "execute_result"
    }
   ],
   "source": [
    "from IPython.display import Image\n",
    "img = 'Data with mo.png'\n",
    "Image(url=img, width=500, height=200)"
   ]
  },
  {
   "cell_type": "markdown",
   "id": "39623ecd-c9cc-445b-9f0d-c96a0dec270b",
   "metadata": {},
   "source": [
    "The aim of this project is answer the question from channel data with mo <https://www.youtube.com/watch?v=wObV_hwu2QM>"
   ]
  },
  {
   "cell_type": "code",
   "execution_count": 2,
   "id": "b90ba759-2d34-448f-96bc-71091efe2c4d",
   "metadata": {},
   "outputs": [
    {
     "data": {
      "text/html": [
       "<img src=\"Option1.png\"/>"
      ],
      "text/plain": [
       "<IPython.core.display.Image object>"
      ]
     },
     "execution_count": 2,
     "metadata": {},
     "output_type": "execute_result"
    }
   ],
   "source": [
    "img = 'Option1.png'\n",
    "Image(url=img)"
   ]
  },
  {
   "cell_type": "markdown",
   "id": "b5749975-e10c-4b94-ada9-e65acc803af8",
   "metadata": {},
   "source": [
    "Dataset from [kaggle.com](https://www.kaggle.com/datasets/yagunnersya/fifa-21-messy-raw-dataset-for-cleaning-exploring?select=fifa21_raw_data.csv%E2%80%8B)"
   ]
  },
  {
   "cell_type": "code",
   "execution_count": 3,
   "id": "2acf96a8-6beb-40da-8160-a927a0a75c27",
   "metadata": {},
   "outputs": [],
   "source": [
    "import pandas as pd"
   ]
  },
  {
   "cell_type": "code",
   "execution_count": 4,
   "id": "2a62eea4-a864-4f15-8719-f7df252ea966",
   "metadata": {},
   "outputs": [
    {
     "name": "stderr",
     "output_type": "stream",
     "text": [
      "C:\\Users\\muham\\AppData\\Local\\Temp\\ipykernel_10988\\235989469.py:1: DtypeWarning: Columns (76) have mixed types. Specify dtype option on import or set low_memory=False.\n",
      "  df = pd.read_csv('fifa21 raw data v2.csv')\n"
     ]
    }
   ],
   "source": [
    "df = pd.read_csv('fifa21 raw data v2.csv')"
   ]
  },
  {
   "cell_type": "code",
   "execution_count": 5,
   "id": "4548e878-847c-4de0-a985-a90edacbb570",
   "metadata": {},
   "outputs": [],
   "source": [
    "#pip install ydata-profiling"
   ]
  },
  {
   "cell_type": "code",
   "execution_count": 6,
   "id": "511bafc6-c691-4814-a1e0-51a9a5101986",
   "metadata": {},
   "outputs": [],
   "source": [
    "#from ydata_profiling import ProfileReport"
   ]
  },
  {
   "cell_type": "code",
   "execution_count": 7,
   "id": "4acade34-2987-4769-8566-69bdda525987",
   "metadata": {},
   "outputs": [],
   "source": [
    "#profile = ProfileReport(df, title=\"Profiling Report\")"
   ]
  },
  {
   "cell_type": "code",
   "execution_count": 8,
   "id": "562fd214-1ec4-4f78-ac4a-1e21fcd78f68",
   "metadata": {},
   "outputs": [],
   "source": [
    "#profile"
   ]
  },
  {
   "cell_type": "code",
   "execution_count": 9,
   "id": "01897730-6d05-4a21-b0c9-f3960c731e99",
   "metadata": {},
   "outputs": [
    {
     "name": "stdout",
     "output_type": "stream",
     "text": [
      "<class 'pandas.core.frame.DataFrame'>\n",
      "RangeIndex: 18979 entries, 0 to 18978\n",
      "Data columns (total 77 columns):\n",
      " #   Column            Non-Null Count  Dtype \n",
      "---  ------            --------------  ----- \n",
      " 0   ID                18979 non-null  int64 \n",
      " 1   Name              18979 non-null  object\n",
      " 2   LongName          18979 non-null  object\n",
      " 3   photoUrl          18979 non-null  object\n",
      " 4   playerUrl         18979 non-null  object\n",
      " 5   Nationality       18979 non-null  object\n",
      " 6   Age               18979 non-null  int64 \n",
      " 7   ↓OVA              18979 non-null  int64 \n",
      " 8   POT               18979 non-null  int64 \n",
      " 9   Club              18979 non-null  object\n",
      " 10  Contract          18979 non-null  object\n",
      " 11  Positions         18979 non-null  object\n",
      " 12  Height            18979 non-null  object\n",
      " 13  Weight            18979 non-null  object\n",
      " 14  Preferred Foot    18979 non-null  object\n",
      " 15  BOV               18979 non-null  int64 \n",
      " 16  Best Position     18979 non-null  object\n",
      " 17  Joined            18979 non-null  object\n",
      " 18  Loan Date End     1013 non-null   object\n",
      " 19  Value             18979 non-null  object\n",
      " 20  Wage              18979 non-null  object\n",
      " 21  Release Clause    18979 non-null  object\n",
      " 22  Attacking         18979 non-null  int64 \n",
      " 23  Crossing          18979 non-null  int64 \n",
      " 24  Finishing         18979 non-null  int64 \n",
      " 25  Heading Accuracy  18979 non-null  int64 \n",
      " 26  Short Passing     18979 non-null  int64 \n",
      " 27  Volleys           18979 non-null  int64 \n",
      " 28  Skill             18979 non-null  int64 \n",
      " 29  Dribbling         18979 non-null  int64 \n",
      " 30  Curve             18979 non-null  int64 \n",
      " 31  FK Accuracy       18979 non-null  int64 \n",
      " 32  Long Passing      18979 non-null  int64 \n",
      " 33  Ball Control      18979 non-null  int64 \n",
      " 34  Movement          18979 non-null  int64 \n",
      " 35  Acceleration      18979 non-null  int64 \n",
      " 36  Sprint Speed      18979 non-null  int64 \n",
      " 37  Agility           18979 non-null  int64 \n",
      " 38  Reactions         18979 non-null  int64 \n",
      " 39  Balance           18979 non-null  int64 \n",
      " 40  Power             18979 non-null  int64 \n",
      " 41  Shot Power        18979 non-null  int64 \n",
      " 42  Jumping           18979 non-null  int64 \n",
      " 43  Stamina           18979 non-null  int64 \n",
      " 44  Strength          18979 non-null  int64 \n",
      " 45  Long Shots        18979 non-null  int64 \n",
      " 46  Mentality         18979 non-null  int64 \n",
      " 47  Aggression        18979 non-null  int64 \n",
      " 48  Interceptions     18979 non-null  int64 \n",
      " 49  Positioning       18979 non-null  int64 \n",
      " 50  Vision            18979 non-null  int64 \n",
      " 51  Penalties         18979 non-null  int64 \n",
      " 52  Composure         18979 non-null  int64 \n",
      " 53  Defending         18979 non-null  int64 \n",
      " 54  Marking           18979 non-null  int64 \n",
      " 55  Standing Tackle   18979 non-null  int64 \n",
      " 56  Sliding Tackle    18979 non-null  int64 \n",
      " 57  Goalkeeping       18979 non-null  int64 \n",
      " 58  GK Diving         18979 non-null  int64 \n",
      " 59  GK Handling       18979 non-null  int64 \n",
      " 60  GK Kicking        18979 non-null  int64 \n",
      " 61  GK Positioning    18979 non-null  int64 \n",
      " 62  GK Reflexes       18979 non-null  int64 \n",
      " 63  Total Stats       18979 non-null  int64 \n",
      " 64  Base Stats        18979 non-null  int64 \n",
      " 65  W/F               18979 non-null  object\n",
      " 66  SM                18979 non-null  object\n",
      " 67  A/W               18979 non-null  object\n",
      " 68  D/W               18979 non-null  object\n",
      " 69  IR                18979 non-null  object\n",
      " 70  PAC               18979 non-null  int64 \n",
      " 71  SHO               18979 non-null  int64 \n",
      " 72  PAS               18979 non-null  int64 \n",
      " 73  DRI               18979 non-null  int64 \n",
      " 74  DEF               18979 non-null  int64 \n",
      " 75  PHY               18979 non-null  int64 \n",
      " 76  Hits              16384 non-null  object\n",
      "dtypes: int64(54), object(23)\n",
      "memory usage: 11.1+ MB\n"
     ]
    }
   ],
   "source": [
    "df.head()\n",
    "df.info()"
   ]
  },
  {
   "cell_type": "markdown",
   "id": "3087a689-1b43-48aa-9ad3-a925e13b7095",
   "metadata": {
    "jp-MarkdownHeadingCollapsed": true
   },
   "source": [
    "### Q1 : Do the Height and weight column have the appropriate data types?"
   ]
  },
  {
   "cell_type": "code",
   "execution_count": 222,
   "id": "128077f3-80b0-4283-9f8e-3242569ceba4",
   "metadata": {},
   "outputs": [
    {
     "data": {
      "text/plain": [
       "Height    object\n",
       "Weight    object\n",
       "dtype: object"
      ]
     },
     "execution_count": 222,
     "metadata": {},
     "output_type": "execute_result"
    }
   ],
   "source": [
    "# Check data types\n",
    "df[['Height','Weight']].dtypes"
   ]
  },
  {
   "cell_type": "code",
   "execution_count": 223,
   "id": "41e6bf1f-31e5-4023-a485-9dafc2341301",
   "metadata": {},
   "outputs": [
    {
     "data": {
      "text/html": [
       "<div>\n",
       "<style scoped>\n",
       "    .dataframe tbody tr th:only-of-type {\n",
       "        vertical-align: middle;\n",
       "    }\n",
       "\n",
       "    .dataframe tbody tr th {\n",
       "        vertical-align: top;\n",
       "    }\n",
       "\n",
       "    .dataframe thead th {\n",
       "        text-align: right;\n",
       "    }\n",
       "</style>\n",
       "<table border=\"1\" class=\"dataframe\">\n",
       "  <thead>\n",
       "    <tr style=\"text-align: right;\">\n",
       "      <th></th>\n",
       "      <th>Height</th>\n",
       "      <th>Weight</th>\n",
       "    </tr>\n",
       "  </thead>\n",
       "  <tbody>\n",
       "    <tr>\n",
       "      <th>0</th>\n",
       "      <td>170cm</td>\n",
       "      <td>72kg</td>\n",
       "    </tr>\n",
       "    <tr>\n",
       "      <th>1</th>\n",
       "      <td>187cm</td>\n",
       "      <td>83kg</td>\n",
       "    </tr>\n",
       "    <tr>\n",
       "      <th>2</th>\n",
       "      <td>188cm</td>\n",
       "      <td>87kg</td>\n",
       "    </tr>\n",
       "  </tbody>\n",
       "</table>\n",
       "</div>"
      ],
      "text/plain": [
       "  Height Weight\n",
       "0  170cm   72kg\n",
       "1  187cm   83kg\n",
       "2  188cm   87kg"
      ]
     },
     "execution_count": 223,
     "metadata": {},
     "output_type": "execute_result"
    }
   ],
   "source": [
    "# Check column\n",
    "df[['Height','Weight']].head(3)"
   ]
  },
  {
   "cell_type": "markdown",
   "id": "3a81a0fe-b63c-4073-9c64-796224d664d4",
   "metadata": {},
   "source": [
    "#### Height column change"
   ]
  },
  {
   "cell_type": "code",
   "execution_count": 224,
   "id": "d53e96ab-7b07-44e9-87d2-48c1d4bf354f",
   "metadata": {},
   "outputs": [],
   "source": [
    "# Remove \"cm\"\n",
    "df['Height'] = df['Height'].str.strip('cm')"
   ]
  },
  {
   "cell_type": "code",
   "execution_count": 225,
   "id": "293f9fce-be99-4f88-89cc-2b3e42027647",
   "metadata": {},
   "outputs": [
    {
     "ename": "ValueError",
     "evalue": "Unable to parse string \"6'2\"\" at position 793",
     "output_type": "error",
     "traceback": [
      "\u001b[1;31m---------------------------------------------------------------------------\u001b[0m",
      "\u001b[1;31mValueError\u001b[0m                                Traceback (most recent call last)",
      "File \u001b[1;32m~\\anaconda3\\Lib\\site-packages\\pandas\\_libs\\lib.pyx:2280\u001b[0m, in \u001b[0;36mpandas._libs.lib.maybe_convert_numeric\u001b[1;34m()\u001b[0m\n",
      "\u001b[1;31mValueError\u001b[0m: Unable to parse string \"6'2\"\"",
      "\nDuring handling of the above exception, another exception occurred:\n",
      "\u001b[1;31mValueError\u001b[0m                                Traceback (most recent call last)",
      "Cell \u001b[1;32mIn[225], line 1\u001b[0m\n\u001b[1;32m----> 1\u001b[0m pd\u001b[38;5;241m.\u001b[39mto_numeric(df[\u001b[38;5;124m'\u001b[39m\u001b[38;5;124mHeight\u001b[39m\u001b[38;5;124m'\u001b[39m])\n",
      "File \u001b[1;32m~\\anaconda3\\Lib\\site-packages\\pandas\\core\\tools\\numeric.py:217\u001b[0m, in \u001b[0;36mto_numeric\u001b[1;34m(arg, errors, downcast, dtype_backend)\u001b[0m\n\u001b[0;32m    215\u001b[0m coerce_numeric \u001b[38;5;241m=\u001b[39m errors \u001b[38;5;129;01mnot\u001b[39;00m \u001b[38;5;129;01min\u001b[39;00m (\u001b[38;5;124m\"\u001b[39m\u001b[38;5;124mignore\u001b[39m\u001b[38;5;124m\"\u001b[39m, \u001b[38;5;124m\"\u001b[39m\u001b[38;5;124mraise\u001b[39m\u001b[38;5;124m\"\u001b[39m)\n\u001b[0;32m    216\u001b[0m \u001b[38;5;28;01mtry\u001b[39;00m:\n\u001b[1;32m--> 217\u001b[0m     values, new_mask \u001b[38;5;241m=\u001b[39m lib\u001b[38;5;241m.\u001b[39mmaybe_convert_numeric(  \u001b[38;5;66;03m# type: ignore[call-overload]  # noqa\u001b[39;00m\n\u001b[0;32m    218\u001b[0m         values,\n\u001b[0;32m    219\u001b[0m         \u001b[38;5;28mset\u001b[39m(),\n\u001b[0;32m    220\u001b[0m         coerce_numeric\u001b[38;5;241m=\u001b[39mcoerce_numeric,\n\u001b[0;32m    221\u001b[0m         convert_to_masked_nullable\u001b[38;5;241m=\u001b[39mdtype_backend \u001b[38;5;129;01mis\u001b[39;00m \u001b[38;5;129;01mnot\u001b[39;00m lib\u001b[38;5;241m.\u001b[39mno_default\n\u001b[0;32m    222\u001b[0m         \u001b[38;5;129;01mor\u001b[39;00m \u001b[38;5;28misinstance\u001b[39m(values_dtype, StringDtype),\n\u001b[0;32m    223\u001b[0m     )\n\u001b[0;32m    224\u001b[0m \u001b[38;5;28;01mexcept\u001b[39;00m (\u001b[38;5;167;01mValueError\u001b[39;00m, \u001b[38;5;167;01mTypeError\u001b[39;00m):\n\u001b[0;32m    225\u001b[0m     \u001b[38;5;28;01mif\u001b[39;00m errors \u001b[38;5;241m==\u001b[39m \u001b[38;5;124m\"\u001b[39m\u001b[38;5;124mraise\u001b[39m\u001b[38;5;124m\"\u001b[39m:\n",
      "File \u001b[1;32m~\\anaconda3\\Lib\\site-packages\\pandas\\_libs\\lib.pyx:2322\u001b[0m, in \u001b[0;36mpandas._libs.lib.maybe_convert_numeric\u001b[1;34m()\u001b[0m\n",
      "\u001b[1;31mValueError\u001b[0m: Unable to parse string \"6'2\"\" at position 793"
     ]
    }
   ],
   "source": [
    "pd.to_numeric(df['Height'])"
   ]
  },
  {
   "cell_type": "code",
   "execution_count": 226,
   "id": "006e9b69-6d02-427e-9dc2-ec2f536b1cb5",
   "metadata": {},
   "outputs": [
    {
     "data": {
      "text/plain": [
       "'6\\'2\"'"
      ]
     },
     "execution_count": 226,
     "metadata": {},
     "output_type": "execute_result"
    }
   ],
   "source": [
    "df['Height'][793]"
   ]
  },
  {
   "cell_type": "markdown",
   "id": "0d68f346-286c-4cca-9b53-f7bc344ff60e",
   "metadata": {},
   "source": [
    "I assume that a Inches value, convert to cm is best solution"
   ]
  },
  {
   "cell_type": "code",
   "execution_count": 201,
   "id": "b2d7b417-6a54-4fe5-abcb-29bf8d7e2ddf",
   "metadata": {},
   "outputs": [],
   "source": [
    "# Check quotation mark (\")\n",
    "mask = (df['Height'].str.endswith('\"'))"
   ]
  },
  {
   "cell_type": "code",
   "execution_count": 203,
   "id": "584ca526-f6a3-4dd2-a569-d4c118ec6b61",
   "metadata": {},
   "outputs": [],
   "source": [
    "# Change all inches into 0 value for numeric types column\n",
    "df_inch = df[mask]\n",
    "df.loc[mask, 'Height'] = \"0\""
   ]
  },
  {
   "cell_type": "code",
   "execution_count": 209,
   "id": "97e55fd7-dc8d-4364-b4dd-05c545b46610",
   "metadata": {},
   "outputs": [],
   "source": [
    "# Convert obj to numeric\n",
    "df['Height'] = pd.to_numeric(df['Height'])"
   ]
  },
  {
   "cell_type": "code",
   "execution_count": 210,
   "id": "551ae464-921d-4ede-bb1c-c62a166e0bca",
   "metadata": {},
   "outputs": [],
   "source": [
    "# All inches value are substitute in column and convert it to cm\n",
    "df.loc[mask, 'Height'] = (df_inch['Height'].str.extract(r\"(\\d*)'(\\d*)\")\n",
    "                   .apply(pd.to_numeric, errors='coerce')\n",
    "                   .mul([30.48, 2.54]).sum(axis=1).round().astype(int)\n",
    "                  )"
   ]
  },
  {
   "cell_type": "code",
   "execution_count": 189,
   "id": "de5b504b-b465-4260-8461-1073fef2b7c2",
   "metadata": {},
   "outputs": [
    {
     "data": {
      "text/plain": [
       "dtype('int64')"
      ]
     },
     "execution_count": 189,
     "metadata": {},
     "output_type": "execute_result"
    }
   ],
   "source": [
    "df['Height'].dtypes"
   ]
  },
  {
   "cell_type": "markdown",
   "id": "c6bc96f1-af4b-4880-bd03-c800c88d8543",
   "metadata": {},
   "source": [
    "#### Weight column change"
   ]
  },
  {
   "cell_type": "markdown",
   "id": "bb76b0e1-68fb-4919-b1a3-de73a64c6dc3",
   "metadata": {},
   "source": [
    "Same case with Height column, same problem solving way"
   ]
  },
  {
   "cell_type": "code",
   "execution_count": 206,
   "id": "4b738916-6343-4562-ad07-17257b7c2372",
   "metadata": {},
   "outputs": [],
   "source": [
    "mask = (df['Weight'].str.endswith('lbs'))\n",
    "df['Weight'] = df['Weight'].str.strip('kglbs')\n",
    "df['Weight'] = pd.to_numeric(df['Weight'])\n",
    "df_lbs = df[mask]\n",
    "df.loc[mask, 'Weight'] = df_lbs['Weight'] * 0.45359237"
   ]
  },
  {
   "cell_type": "code",
   "execution_count": 207,
   "id": "afef6aec-6bbd-4398-93dd-f5b364f4d140",
   "metadata": {},
   "outputs": [],
   "source": [
    "df['Weight'] = df['Weight'].astype(int)"
   ]
  },
  {
   "cell_type": "markdown",
   "id": "49b8758f-cb75-4b85-a691-3706405b6a7b",
   "metadata": {
    "jp-MarkdownHeadingCollapsed": true
   },
   "source": [
    "### Q2 Can you separate Join column into day, month and year"
   ]
  },
  {
   "cell_type": "code",
   "execution_count": 227,
   "id": "16cfe4be-929d-4b12-8939-a23a288c0af6",
   "metadata": {},
   "outputs": [
    {
     "data": {
      "text/plain": [
       "0         Jul 1, 2004\n",
       "1        Jul 10, 2018\n",
       "2        Jul 16, 2014\n",
       "3        Aug 30, 2015\n",
       "4         Aug 3, 2017\n",
       "             ...     \n",
       "18974    Jul 13, 2018\n",
       "18975     Aug 1, 2020\n",
       "18976     Mar 8, 2019\n",
       "18977    Sep 22, 2020\n",
       "18978    Jul 29, 2019\n",
       "Name: Joined, Length: 18979, dtype: object"
      ]
     },
     "execution_count": 227,
     "metadata": {},
     "output_type": "execute_result"
    }
   ],
   "source": [
    "df.Joined"
   ]
  },
  {
   "cell_type": "code",
   "execution_count": 229,
   "id": "66237d40-0b24-42ed-9c1f-70928b063cad",
   "metadata": {},
   "outputs": [],
   "source": [
    "df.Joined = pd.to_datetime(df.Joined)"
   ]
  },
  {
   "cell_type": "code",
   "execution_count": 230,
   "id": "c5af979a-6e93-4803-a743-77d9bf20f22c",
   "metadata": {},
   "outputs": [],
   "source": [
    "import datetime as dt"
   ]
  },
  {
   "cell_type": "code",
   "execution_count": 241,
   "id": "b0f95127-e9a1-471b-94cc-c4776a5760f5",
   "metadata": {},
   "outputs": [],
   "source": [
    "df['Joined_day'] = df.Joined.dt.day\n",
    "df['Joined_month'] = df.Joined.dt.month\n",
    "df['Joined_year'] = df.Joined.dt.year"
   ]
  },
  {
   "cell_type": "code",
   "execution_count": 242,
   "id": "2595145d-e46d-4c44-b045-8f2926e32b9a",
   "metadata": {},
   "outputs": [
    {
     "data": {
      "text/html": [
       "<div>\n",
       "<style scoped>\n",
       "    .dataframe tbody tr th:only-of-type {\n",
       "        vertical-align: middle;\n",
       "    }\n",
       "\n",
       "    .dataframe tbody tr th {\n",
       "        vertical-align: top;\n",
       "    }\n",
       "\n",
       "    .dataframe thead th {\n",
       "        text-align: right;\n",
       "    }\n",
       "</style>\n",
       "<table border=\"1\" class=\"dataframe\">\n",
       "  <thead>\n",
       "    <tr style=\"text-align: right;\">\n",
       "      <th></th>\n",
       "      <th>ID</th>\n",
       "      <th>Name</th>\n",
       "      <th>LongName</th>\n",
       "      <th>photoUrl</th>\n",
       "      <th>playerUrl</th>\n",
       "      <th>Nationality</th>\n",
       "      <th>Age</th>\n",
       "      <th>↓OVA</th>\n",
       "      <th>POT</th>\n",
       "      <th>Club</th>\n",
       "      <th>...</th>\n",
       "      <th>PAC</th>\n",
       "      <th>SHO</th>\n",
       "      <th>PAS</th>\n",
       "      <th>DRI</th>\n",
       "      <th>DEF</th>\n",
       "      <th>PHY</th>\n",
       "      <th>Hits</th>\n",
       "      <th>oined_day</th>\n",
       "      <th>Joined_month</th>\n",
       "      <th>Joined_year</th>\n",
       "    </tr>\n",
       "  </thead>\n",
       "  <tbody>\n",
       "    <tr>\n",
       "      <th>0</th>\n",
       "      <td>158023</td>\n",
       "      <td>L. Messi</td>\n",
       "      <td>Lionel Messi</td>\n",
       "      <td>https://cdn.sofifa.com/players/158/023/21_60.png</td>\n",
       "      <td>http://sofifa.com/player/158023/lionel-messi/2...</td>\n",
       "      <td>Argentina</td>\n",
       "      <td>33</td>\n",
       "      <td>93</td>\n",
       "      <td>93</td>\n",
       "      <td>\\n\\n\\n\\nFC Barcelona</td>\n",
       "      <td>...</td>\n",
       "      <td>85</td>\n",
       "      <td>92</td>\n",
       "      <td>91</td>\n",
       "      <td>95</td>\n",
       "      <td>38</td>\n",
       "      <td>65</td>\n",
       "      <td>771</td>\n",
       "      <td>1</td>\n",
       "      <td>7</td>\n",
       "      <td>2004</td>\n",
       "    </tr>\n",
       "    <tr>\n",
       "      <th>1</th>\n",
       "      <td>20801</td>\n",
       "      <td>Cristiano Ronaldo</td>\n",
       "      <td>C. Ronaldo dos Santos Aveiro</td>\n",
       "      <td>https://cdn.sofifa.com/players/020/801/21_60.png</td>\n",
       "      <td>http://sofifa.com/player/20801/c-ronaldo-dos-s...</td>\n",
       "      <td>Portugal</td>\n",
       "      <td>35</td>\n",
       "      <td>92</td>\n",
       "      <td>92</td>\n",
       "      <td>\\n\\n\\n\\nJuventus</td>\n",
       "      <td>...</td>\n",
       "      <td>89</td>\n",
       "      <td>93</td>\n",
       "      <td>81</td>\n",
       "      <td>89</td>\n",
       "      <td>35</td>\n",
       "      <td>77</td>\n",
       "      <td>562</td>\n",
       "      <td>10</td>\n",
       "      <td>7</td>\n",
       "      <td>2018</td>\n",
       "    </tr>\n",
       "    <tr>\n",
       "      <th>2</th>\n",
       "      <td>200389</td>\n",
       "      <td>J. Oblak</td>\n",
       "      <td>Jan Oblak</td>\n",
       "      <td>https://cdn.sofifa.com/players/200/389/21_60.png</td>\n",
       "      <td>http://sofifa.com/player/200389/jan-oblak/210006/</td>\n",
       "      <td>Slovenia</td>\n",
       "      <td>27</td>\n",
       "      <td>91</td>\n",
       "      <td>93</td>\n",
       "      <td>\\n\\n\\n\\nAtlético Madrid</td>\n",
       "      <td>...</td>\n",
       "      <td>87</td>\n",
       "      <td>92</td>\n",
       "      <td>78</td>\n",
       "      <td>90</td>\n",
       "      <td>52</td>\n",
       "      <td>90</td>\n",
       "      <td>150</td>\n",
       "      <td>16</td>\n",
       "      <td>7</td>\n",
       "      <td>2014</td>\n",
       "    </tr>\n",
       "    <tr>\n",
       "      <th>3</th>\n",
       "      <td>192985</td>\n",
       "      <td>K. De Bruyne</td>\n",
       "      <td>Kevin De Bruyne</td>\n",
       "      <td>https://cdn.sofifa.com/players/192/985/21_60.png</td>\n",
       "      <td>http://sofifa.com/player/192985/kevin-de-bruyn...</td>\n",
       "      <td>Belgium</td>\n",
       "      <td>29</td>\n",
       "      <td>91</td>\n",
       "      <td>91</td>\n",
       "      <td>\\n\\n\\n\\nManchester City</td>\n",
       "      <td>...</td>\n",
       "      <td>76</td>\n",
       "      <td>86</td>\n",
       "      <td>93</td>\n",
       "      <td>88</td>\n",
       "      <td>64</td>\n",
       "      <td>78</td>\n",
       "      <td>207</td>\n",
       "      <td>30</td>\n",
       "      <td>8</td>\n",
       "      <td>2015</td>\n",
       "    </tr>\n",
       "    <tr>\n",
       "      <th>4</th>\n",
       "      <td>190871</td>\n",
       "      <td>Neymar Jr</td>\n",
       "      <td>Neymar da Silva Santos Jr.</td>\n",
       "      <td>https://cdn.sofifa.com/players/190/871/21_60.png</td>\n",
       "      <td>http://sofifa.com/player/190871/neymar-da-silv...</td>\n",
       "      <td>Brazil</td>\n",
       "      <td>28</td>\n",
       "      <td>91</td>\n",
       "      <td>91</td>\n",
       "      <td>\\n\\n\\n\\nParis Saint-Germain</td>\n",
       "      <td>...</td>\n",
       "      <td>91</td>\n",
       "      <td>85</td>\n",
       "      <td>86</td>\n",
       "      <td>94</td>\n",
       "      <td>36</td>\n",
       "      <td>59</td>\n",
       "      <td>595</td>\n",
       "      <td>3</td>\n",
       "      <td>8</td>\n",
       "      <td>2017</td>\n",
       "    </tr>\n",
       "    <tr>\n",
       "      <th>...</th>\n",
       "      <td>...</td>\n",
       "      <td>...</td>\n",
       "      <td>...</td>\n",
       "      <td>...</td>\n",
       "      <td>...</td>\n",
       "      <td>...</td>\n",
       "      <td>...</td>\n",
       "      <td>...</td>\n",
       "      <td>...</td>\n",
       "      <td>...</td>\n",
       "      <td>...</td>\n",
       "      <td>...</td>\n",
       "      <td>...</td>\n",
       "      <td>...</td>\n",
       "      <td>...</td>\n",
       "      <td>...</td>\n",
       "      <td>...</td>\n",
       "      <td>...</td>\n",
       "      <td>...</td>\n",
       "      <td>...</td>\n",
       "      <td>...</td>\n",
       "    </tr>\n",
       "    <tr>\n",
       "      <th>18974</th>\n",
       "      <td>247223</td>\n",
       "      <td>Xia Ao</td>\n",
       "      <td>Ao Xia</td>\n",
       "      <td>https://cdn.sofifa.com/players/247/223/21_60.png</td>\n",
       "      <td>http://sofifa.com/player/247223/ao-xia/210006/</td>\n",
       "      <td>China PR</td>\n",
       "      <td>21</td>\n",
       "      <td>47</td>\n",
       "      <td>55</td>\n",
       "      <td>\\n\\n\\n\\nWuhan Zall</td>\n",
       "      <td>...</td>\n",
       "      <td>64</td>\n",
       "      <td>28</td>\n",
       "      <td>26</td>\n",
       "      <td>38</td>\n",
       "      <td>48</td>\n",
       "      <td>51</td>\n",
       "      <td>NaN</td>\n",
       "      <td>13</td>\n",
       "      <td>7</td>\n",
       "      <td>2018</td>\n",
       "    </tr>\n",
       "    <tr>\n",
       "      <th>18975</th>\n",
       "      <td>258760</td>\n",
       "      <td>B. Hough</td>\n",
       "      <td>Ben Hough</td>\n",
       "      <td>https://cdn.sofifa.com/players/258/760/21_60.png</td>\n",
       "      <td>http://sofifa.com/player/258760/ben-hough/210006/</td>\n",
       "      <td>England</td>\n",
       "      <td>17</td>\n",
       "      <td>47</td>\n",
       "      <td>67</td>\n",
       "      <td>\\n\\n\\n\\nOldham Athletic</td>\n",
       "      <td>...</td>\n",
       "      <td>64</td>\n",
       "      <td>40</td>\n",
       "      <td>48</td>\n",
       "      <td>49</td>\n",
       "      <td>35</td>\n",
       "      <td>45</td>\n",
       "      <td>NaN</td>\n",
       "      <td>1</td>\n",
       "      <td>8</td>\n",
       "      <td>2020</td>\n",
       "    </tr>\n",
       "    <tr>\n",
       "      <th>18976</th>\n",
       "      <td>252757</td>\n",
       "      <td>R. McKinley</td>\n",
       "      <td>Ronan McKinley</td>\n",
       "      <td>https://cdn.sofifa.com/players/252/757/21_60.png</td>\n",
       "      <td>http://sofifa.com/player/252757/ronan-mckinley...</td>\n",
       "      <td>England</td>\n",
       "      <td>18</td>\n",
       "      <td>47</td>\n",
       "      <td>65</td>\n",
       "      <td>\\n\\n\\n\\nDerry City</td>\n",
       "      <td>...</td>\n",
       "      <td>63</td>\n",
       "      <td>39</td>\n",
       "      <td>44</td>\n",
       "      <td>46</td>\n",
       "      <td>40</td>\n",
       "      <td>53</td>\n",
       "      <td>NaN</td>\n",
       "      <td>8</td>\n",
       "      <td>3</td>\n",
       "      <td>2019</td>\n",
       "    </tr>\n",
       "    <tr>\n",
       "      <th>18977</th>\n",
       "      <td>243790</td>\n",
       "      <td>Wang Zhen'ao</td>\n",
       "      <td>Zhen'ao Wang</td>\n",
       "      <td>https://cdn.sofifa.com/players/243/790/21_60.png</td>\n",
       "      <td>http://sofifa.com/player/243790/zhenao-wang/21...</td>\n",
       "      <td>China PR</td>\n",
       "      <td>20</td>\n",
       "      <td>47</td>\n",
       "      <td>57</td>\n",
       "      <td>\\n\\n\\n\\nDalian YiFang FC</td>\n",
       "      <td>...</td>\n",
       "      <td>58</td>\n",
       "      <td>49</td>\n",
       "      <td>41</td>\n",
       "      <td>49</td>\n",
       "      <td>30</td>\n",
       "      <td>44</td>\n",
       "      <td>NaN</td>\n",
       "      <td>22</td>\n",
       "      <td>9</td>\n",
       "      <td>2020</td>\n",
       "    </tr>\n",
       "    <tr>\n",
       "      <th>18978</th>\n",
       "      <td>252520</td>\n",
       "      <td>Zhou Xiao</td>\n",
       "      <td>Xiao Zhou</td>\n",
       "      <td>https://cdn.sofifa.com/players/252/520/21_60.png</td>\n",
       "      <td>http://sofifa.com/player/252520/xiao-zhou/210006/</td>\n",
       "      <td>China PR</td>\n",
       "      <td>21</td>\n",
       "      <td>47</td>\n",
       "      <td>57</td>\n",
       "      <td>\\n\\n\\n\\nDalian YiFang FC</td>\n",
       "      <td>...</td>\n",
       "      <td>62</td>\n",
       "      <td>22</td>\n",
       "      <td>39</td>\n",
       "      <td>42</td>\n",
       "      <td>45</td>\n",
       "      <td>55</td>\n",
       "      <td>NaN</td>\n",
       "      <td>29</td>\n",
       "      <td>7</td>\n",
       "      <td>2019</td>\n",
       "    </tr>\n",
       "  </tbody>\n",
       "</table>\n",
       "<p>18979 rows × 80 columns</p>\n",
       "</div>"
      ],
      "text/plain": [
       "           ID               Name                      LongName  \\\n",
       "0      158023           L. Messi                  Lionel Messi   \n",
       "1       20801  Cristiano Ronaldo  C. Ronaldo dos Santos Aveiro   \n",
       "2      200389           J. Oblak                     Jan Oblak   \n",
       "3      192985       K. De Bruyne               Kevin De Bruyne   \n",
       "4      190871          Neymar Jr    Neymar da Silva Santos Jr.   \n",
       "...       ...                ...                           ...   \n",
       "18974  247223             Xia Ao                        Ao Xia   \n",
       "18975  258760           B. Hough                     Ben Hough   \n",
       "18976  252757        R. McKinley                Ronan McKinley   \n",
       "18977  243790       Wang Zhen'ao                  Zhen'ao Wang   \n",
       "18978  252520          Zhou Xiao                     Xiao Zhou   \n",
       "\n",
       "                                               photoUrl  \\\n",
       "0      https://cdn.sofifa.com/players/158/023/21_60.png   \n",
       "1      https://cdn.sofifa.com/players/020/801/21_60.png   \n",
       "2      https://cdn.sofifa.com/players/200/389/21_60.png   \n",
       "3      https://cdn.sofifa.com/players/192/985/21_60.png   \n",
       "4      https://cdn.sofifa.com/players/190/871/21_60.png   \n",
       "...                                                 ...   \n",
       "18974  https://cdn.sofifa.com/players/247/223/21_60.png   \n",
       "18975  https://cdn.sofifa.com/players/258/760/21_60.png   \n",
       "18976  https://cdn.sofifa.com/players/252/757/21_60.png   \n",
       "18977  https://cdn.sofifa.com/players/243/790/21_60.png   \n",
       "18978  https://cdn.sofifa.com/players/252/520/21_60.png   \n",
       "\n",
       "                                               playerUrl Nationality  Age  \\\n",
       "0      http://sofifa.com/player/158023/lionel-messi/2...   Argentina   33   \n",
       "1      http://sofifa.com/player/20801/c-ronaldo-dos-s...    Portugal   35   \n",
       "2      http://sofifa.com/player/200389/jan-oblak/210006/    Slovenia   27   \n",
       "3      http://sofifa.com/player/192985/kevin-de-bruyn...     Belgium   29   \n",
       "4      http://sofifa.com/player/190871/neymar-da-silv...      Brazil   28   \n",
       "...                                                  ...         ...  ...   \n",
       "18974     http://sofifa.com/player/247223/ao-xia/210006/    China PR   21   \n",
       "18975  http://sofifa.com/player/258760/ben-hough/210006/     England   17   \n",
       "18976  http://sofifa.com/player/252757/ronan-mckinley...     England   18   \n",
       "18977  http://sofifa.com/player/243790/zhenao-wang/21...    China PR   20   \n",
       "18978  http://sofifa.com/player/252520/xiao-zhou/210006/    China PR   21   \n",
       "\n",
       "       ↓OVA  POT                         Club  ... PAC SHO PAS DRI DEF  PHY  \\\n",
       "0        93   93         \\n\\n\\n\\nFC Barcelona  ...  85  92  91  95  38   65   \n",
       "1        92   92             \\n\\n\\n\\nJuventus  ...  89  93  81  89  35   77   \n",
       "2        91   93      \\n\\n\\n\\nAtlético Madrid  ...  87  92  78  90  52   90   \n",
       "3        91   91      \\n\\n\\n\\nManchester City  ...  76  86  93  88  64   78   \n",
       "4        91   91  \\n\\n\\n\\nParis Saint-Germain  ...  91  85  86  94  36   59   \n",
       "...     ...  ...                          ...  ...  ..  ..  ..  ..  ..  ...   \n",
       "18974    47   55           \\n\\n\\n\\nWuhan Zall  ...  64  28  26  38  48   51   \n",
       "18975    47   67      \\n\\n\\n\\nOldham Athletic  ...  64  40  48  49  35   45   \n",
       "18976    47   65           \\n\\n\\n\\nDerry City  ...  63  39  44  46  40   53   \n",
       "18977    47   57     \\n\\n\\n\\nDalian YiFang FC  ...  58  49  41  49  30   44   \n",
       "18978    47   57     \\n\\n\\n\\nDalian YiFang FC  ...  62  22  39  42  45   55   \n",
       "\n",
       "      Hits oined_day Joined_month Joined_year  \n",
       "0      771         1            7        2004  \n",
       "1      562        10            7        2018  \n",
       "2      150        16            7        2014  \n",
       "3      207        30            8        2015  \n",
       "4      595         3            8        2017  \n",
       "...    ...       ...          ...         ...  \n",
       "18974  NaN        13            7        2018  \n",
       "18975  NaN         1            8        2020  \n",
       "18976  NaN         8            3        2019  \n",
       "18977  NaN        22            9        2020  \n",
       "18978  NaN        29            7        2019  \n",
       "\n",
       "[18979 rows x 80 columns]"
      ]
     },
     "execution_count": 242,
     "metadata": {},
     "output_type": "execute_result"
    }
   ],
   "source": [
    "df[['Joined', 'Joined_day', 'Joined_month', 'Joined_year']]"
   ]
  },
  {
   "cell_type": "markdown",
   "id": "9ac0c84f-71c2-48ac-8ea1-0e353c18813f",
   "metadata": {
    "jp-MarkdownHeadingCollapsed": true
   },
   "source": [
    "### Q3 Can you clean Value, Wage and Release Clause Column"
   ]
  },
  {
   "cell_type": "code",
   "execution_count": 243,
   "id": "861458bb-3035-47b5-9f41-bc236157a584",
   "metadata": {},
   "outputs": [
    {
     "data": {
      "text/html": [
       "<div>\n",
       "<style scoped>\n",
       "    .dataframe tbody tr th:only-of-type {\n",
       "        vertical-align: middle;\n",
       "    }\n",
       "\n",
       "    .dataframe tbody tr th {\n",
       "        vertical-align: top;\n",
       "    }\n",
       "\n",
       "    .dataframe thead th {\n",
       "        text-align: right;\n",
       "    }\n",
       "</style>\n",
       "<table border=\"1\" class=\"dataframe\">\n",
       "  <thead>\n",
       "    <tr style=\"text-align: right;\">\n",
       "      <th></th>\n",
       "      <th>Value</th>\n",
       "      <th>Wage</th>\n",
       "      <th>Release Clause</th>\n",
       "    </tr>\n",
       "  </thead>\n",
       "  <tbody>\n",
       "    <tr>\n",
       "      <th>0</th>\n",
       "      <td>€103.5M</td>\n",
       "      <td>€560K</td>\n",
       "      <td>€138.4M</td>\n",
       "    </tr>\n",
       "    <tr>\n",
       "      <th>1</th>\n",
       "      <td>€63M</td>\n",
       "      <td>€220K</td>\n",
       "      <td>€75.9M</td>\n",
       "    </tr>\n",
       "    <tr>\n",
       "      <th>2</th>\n",
       "      <td>€120M</td>\n",
       "      <td>€125K</td>\n",
       "      <td>€159.4M</td>\n",
       "    </tr>\n",
       "    <tr>\n",
       "      <th>3</th>\n",
       "      <td>€129M</td>\n",
       "      <td>€370K</td>\n",
       "      <td>€161M</td>\n",
       "    </tr>\n",
       "    <tr>\n",
       "      <th>4</th>\n",
       "      <td>€132M</td>\n",
       "      <td>€270K</td>\n",
       "      <td>€166.5M</td>\n",
       "    </tr>\n",
       "  </tbody>\n",
       "</table>\n",
       "</div>"
      ],
      "text/plain": [
       "     Value   Wage Release Clause\n",
       "0  €103.5M  €560K        €138.4M\n",
       "1     €63M  €220K         €75.9M\n",
       "2    €120M  €125K        €159.4M\n",
       "3    €129M  €370K          €161M\n",
       "4    €132M  €270K        €166.5M"
      ]
     },
     "execution_count": 243,
     "metadata": {},
     "output_type": "execute_result"
    }
   ],
   "source": [
    "df[['Value','Wage','Release Clause']].head()"
   ]
  },
  {
   "cell_type": "code",
   "execution_count": 244,
   "id": "802fec7b-76ab-4801-b1da-4feb6371f11d",
   "metadata": {},
   "outputs": [],
   "source": [
    "df[['Value','Wage','Release Clause']] = df[['Value','Wage','Release Clause']].replace({'€' : ''}, regex=True)"
   ]
  },
  {
   "cell_type": "code",
   "execution_count": 245,
   "id": "2cdab76b-47a8-4b8f-8579-443b097fb3eb",
   "metadata": {},
   "outputs": [],
   "source": [
    "df[['Value','Wage','Release Clause']] = df[['Value','Wage','Release Clause']].fillna(0)"
   ]
  },
  {
   "cell_type": "code",
   "execution_count": 246,
   "id": "79101d88-9045-4b7c-a0d1-11c3a0dac47b",
   "metadata": {},
   "outputs": [],
   "source": [
    "mp = {'K':' * 10**3', 'M':' * 10**6', 'B':' * 10**9', 't':' * 10**12', 'q':' * 10**15', 'Q':' * 10**15'}\n",
    "df['Value'] = df['Value'].replace(mp.keys(), mp.values(), regex=True).map(pd.eval).astype(int)\n",
    "df['Wage'] = df['Wage'].replace(mp.keys(), mp.values(), regex=True).map(pd.eval).astype(int)\n",
    "df['Release Clause'] = df['Release Clause'].replace(mp.keys(), mp.values(), regex=True).map(pd.eval).astype(int)"
   ]
  },
  {
   "cell_type": "code",
   "execution_count": 247,
   "id": "e8b3729c-2d35-4063-9244-281d47a7eca9",
   "metadata": {},
   "outputs": [
    {
     "data": {
      "text/html": [
       "<div>\n",
       "<style scoped>\n",
       "    .dataframe tbody tr th:only-of-type {\n",
       "        vertical-align: middle;\n",
       "    }\n",
       "\n",
       "    .dataframe tbody tr th {\n",
       "        vertical-align: top;\n",
       "    }\n",
       "\n",
       "    .dataframe thead th {\n",
       "        text-align: right;\n",
       "    }\n",
       "</style>\n",
       "<table border=\"1\" class=\"dataframe\">\n",
       "  <thead>\n",
       "    <tr style=\"text-align: right;\">\n",
       "      <th></th>\n",
       "      <th>Value</th>\n",
       "      <th>Wage</th>\n",
       "      <th>Release Clause</th>\n",
       "    </tr>\n",
       "  </thead>\n",
       "  <tbody>\n",
       "    <tr>\n",
       "      <th>0</th>\n",
       "      <td>103500000</td>\n",
       "      <td>560000</td>\n",
       "      <td>138400000</td>\n",
       "    </tr>\n",
       "    <tr>\n",
       "      <th>1</th>\n",
       "      <td>63000000</td>\n",
       "      <td>220000</td>\n",
       "      <td>75900000</td>\n",
       "    </tr>\n",
       "    <tr>\n",
       "      <th>2</th>\n",
       "      <td>120000000</td>\n",
       "      <td>125000</td>\n",
       "      <td>159400000</td>\n",
       "    </tr>\n",
       "    <tr>\n",
       "      <th>3</th>\n",
       "      <td>129000000</td>\n",
       "      <td>370000</td>\n",
       "      <td>161000000</td>\n",
       "    </tr>\n",
       "    <tr>\n",
       "      <th>4</th>\n",
       "      <td>132000000</td>\n",
       "      <td>270000</td>\n",
       "      <td>166500000</td>\n",
       "    </tr>\n",
       "  </tbody>\n",
       "</table>\n",
       "</div>"
      ],
      "text/plain": [
       "       Value    Wage  Release Clause\n",
       "0  103500000  560000       138400000\n",
       "1   63000000  220000        75900000\n",
       "2  120000000  125000       159400000\n",
       "3  129000000  370000       161000000\n",
       "4  132000000  270000       166500000"
      ]
     },
     "execution_count": 247,
     "metadata": {},
     "output_type": "execute_result"
    }
   ],
   "source": [
    "df[['Value','Wage','Release Clause']].head()"
   ]
  },
  {
   "cell_type": "code",
   "execution_count": 248,
   "id": "06de4512-d3d3-409a-8731-9a6e02c183e9",
   "metadata": {},
   "outputs": [
    {
     "data": {
      "text/plain": [
       "Value             int32\n",
       "Wage              int32\n",
       "Release Clause    int32\n",
       "dtype: object"
      ]
     },
     "execution_count": 248,
     "metadata": {},
     "output_type": "execute_result"
    }
   ],
   "source": [
    "df[['Value','Wage','Release Clause']].dtypes"
   ]
  },
  {
   "cell_type": "markdown",
   "id": "10f8dbae-2a2f-4850-b2b1-bc37e5105937",
   "metadata": {
    "jp-MarkdownHeadingCollapsed": true
   },
   "source": [
    "### Q4 How can you remove the newline character from the Hits column"
   ]
  },
  {
   "cell_type": "code",
   "execution_count": 22,
   "id": "5e2441c3-67ce-465d-bce2-39153bcaa801",
   "metadata": {},
   "outputs": [
    {
     "data": {
      "text/plain": [
       "0        771\n",
       "1        562\n",
       "2        150\n",
       "3        207\n",
       "4        595\n",
       "        ... \n",
       "18974    NaN\n",
       "18975    NaN\n",
       "18976    NaN\n",
       "18977    NaN\n",
       "18978    NaN\n",
       "Name: Hits, Length: 18979, dtype: object"
      ]
     },
     "execution_count": 22,
     "metadata": {},
     "output_type": "execute_result"
    }
   ],
   "source": [
    "df.Hits"
   ]
  },
  {
   "cell_type": "code",
   "execution_count": 23,
   "id": "7b12eab3-3c9d-4d5c-bd41-c1d2a73f52af",
   "metadata": {},
   "outputs": [
    {
     "data": {
      "text/plain": [
       "13.673007007745403"
      ]
     },
     "execution_count": 23,
     "metadata": {},
     "output_type": "execute_result"
    }
   ],
   "source": [
    "# Check nan value\n",
    "df.Hits.isnull().sum() * 100 / len(df)"
   ]
  },
  {
   "cell_type": "code",
   "execution_count": 29,
   "id": "453eedf5-8983-4133-b734-bf7dc10c6109",
   "metadata": {},
   "outputs": [],
   "source": [
    "# Fill na value\n",
    "df.Hits = df.Hits.fillna(0)"
   ]
  },
  {
   "cell_type": "code",
   "execution_count": 30,
   "id": "44788007-4b58-49da-998d-5c685cf13db0",
   "metadata": {},
   "outputs": [
    {
     "ename": "ValueError",
     "evalue": "Unable to parse string \"1.6K\" at position 8",
     "output_type": "error",
     "traceback": [
      "\u001b[1;31m---------------------------------------------------------------------------\u001b[0m",
      "\u001b[1;31mValueError\u001b[0m                                Traceback (most recent call last)",
      "File \u001b[1;32m~\\anaconda3\\Lib\\site-packages\\pandas\\_libs\\lib.pyx:2280\u001b[0m, in \u001b[0;36mpandas._libs.lib.maybe_convert_numeric\u001b[1;34m()\u001b[0m\n",
      "\u001b[1;31mValueError\u001b[0m: Unable to parse string \"1.6K\"",
      "\nDuring handling of the above exception, another exception occurred:\n",
      "\u001b[1;31mValueError\u001b[0m                                Traceback (most recent call last)",
      "Cell \u001b[1;32mIn[30], line 1\u001b[0m\n\u001b[1;32m----> 1\u001b[0m pd\u001b[38;5;241m.\u001b[39mto_numeric(df\u001b[38;5;241m.\u001b[39mHits)\n",
      "File \u001b[1;32m~\\anaconda3\\Lib\\site-packages\\pandas\\core\\tools\\numeric.py:217\u001b[0m, in \u001b[0;36mto_numeric\u001b[1;34m(arg, errors, downcast, dtype_backend)\u001b[0m\n\u001b[0;32m    215\u001b[0m coerce_numeric \u001b[38;5;241m=\u001b[39m errors \u001b[38;5;129;01mnot\u001b[39;00m \u001b[38;5;129;01min\u001b[39;00m (\u001b[38;5;124m\"\u001b[39m\u001b[38;5;124mignore\u001b[39m\u001b[38;5;124m\"\u001b[39m, \u001b[38;5;124m\"\u001b[39m\u001b[38;5;124mraise\u001b[39m\u001b[38;5;124m\"\u001b[39m)\n\u001b[0;32m    216\u001b[0m \u001b[38;5;28;01mtry\u001b[39;00m:\n\u001b[1;32m--> 217\u001b[0m     values, new_mask \u001b[38;5;241m=\u001b[39m lib\u001b[38;5;241m.\u001b[39mmaybe_convert_numeric(  \u001b[38;5;66;03m# type: ignore[call-overload]  # noqa\u001b[39;00m\n\u001b[0;32m    218\u001b[0m         values,\n\u001b[0;32m    219\u001b[0m         \u001b[38;5;28mset\u001b[39m(),\n\u001b[0;32m    220\u001b[0m         coerce_numeric\u001b[38;5;241m=\u001b[39mcoerce_numeric,\n\u001b[0;32m    221\u001b[0m         convert_to_masked_nullable\u001b[38;5;241m=\u001b[39mdtype_backend \u001b[38;5;129;01mis\u001b[39;00m \u001b[38;5;129;01mnot\u001b[39;00m lib\u001b[38;5;241m.\u001b[39mno_default\n\u001b[0;32m    222\u001b[0m         \u001b[38;5;129;01mor\u001b[39;00m \u001b[38;5;28misinstance\u001b[39m(values_dtype, StringDtype),\n\u001b[0;32m    223\u001b[0m     )\n\u001b[0;32m    224\u001b[0m \u001b[38;5;28;01mexcept\u001b[39;00m (\u001b[38;5;167;01mValueError\u001b[39;00m, \u001b[38;5;167;01mTypeError\u001b[39;00m):\n\u001b[0;32m    225\u001b[0m     \u001b[38;5;28;01mif\u001b[39;00m errors \u001b[38;5;241m==\u001b[39m \u001b[38;5;124m\"\u001b[39m\u001b[38;5;124mraise\u001b[39m\u001b[38;5;124m\"\u001b[39m:\n",
      "File \u001b[1;32m~\\anaconda3\\Lib\\site-packages\\pandas\\_libs\\lib.pyx:2322\u001b[0m, in \u001b[0;36mpandas._libs.lib.maybe_convert_numeric\u001b[1;34m()\u001b[0m\n",
      "\u001b[1;31mValueError\u001b[0m: Unable to parse string \"1.6K\" at position 8"
     ]
    }
   ],
   "source": [
    "# Change to numeric column\n",
    "pd.to_numeric(df.Hits)"
   ]
  },
  {
   "cell_type": "markdown",
   "id": "c48f4f03-6d6a-4764-af19-e2a6c372e191",
   "metadata": {},
   "source": [
    "Lets convert(*) \"k\" to thousand"
   ]
  },
  {
   "cell_type": "code",
   "execution_count": 32,
   "id": "32e3252c-b99f-419c-a952-aa328b8651e2",
   "metadata": {},
   "outputs": [],
   "source": [
    "df.Hits = df.Hits.replace({\"K\":\"*1e3\", \"M\":\"*1e6\"}, regex=True).map(pd.eval).astype(int)"
   ]
  },
  {
   "cell_type": "code",
   "execution_count": 34,
   "id": "9af4b20b-6be4-495d-8113-31747bd8c11d",
   "metadata": {},
   "outputs": [
    {
     "data": {
      "text/plain": [
       "dtype('int32')"
      ]
     },
     "execution_count": 34,
     "metadata": {},
     "output_type": "execute_result"
    }
   ],
   "source": [
    "df.Hits.dtypes"
   ]
  },
  {
   "cell_type": "markdown",
   "id": "28a70b61-6fe0-40af-9292-423a0dfca384",
   "metadata": {},
   "source": [
    "### Q5 Should you separate teams & contract column into separate team and contract column"
   ]
  },
  {
   "cell_type": "markdown",
   "id": "3a0e40d3-bc31-4416-86b0-bc9aedb96022",
   "metadata": {},
   "source": [
    "Base on dataset, teams and contract column already separate column but there are problem with them"
   ]
  },
  {
   "cell_type": "code",
   "execution_count": 10,
   "id": "51258cc8-fd48-485d-980b-b61a6bbfaaec",
   "metadata": {},
   "outputs": [
    {
     "data": {
      "text/html": [
       "<div>\n",
       "<style scoped>\n",
       "    .dataframe tbody tr th:only-of-type {\n",
       "        vertical-align: middle;\n",
       "    }\n",
       "\n",
       "    .dataframe tbody tr th {\n",
       "        vertical-align: top;\n",
       "    }\n",
       "\n",
       "    .dataframe thead th {\n",
       "        text-align: right;\n",
       "    }\n",
       "</style>\n",
       "<table border=\"1\" class=\"dataframe\">\n",
       "  <thead>\n",
       "    <tr style=\"text-align: right;\">\n",
       "      <th></th>\n",
       "      <th>Club</th>\n",
       "      <th>Contract</th>\n",
       "    </tr>\n",
       "  </thead>\n",
       "  <tbody>\n",
       "    <tr>\n",
       "      <th>0</th>\n",
       "      <td>\\n\\n\\n\\nFC Barcelona</td>\n",
       "      <td>2004 ~ 2021</td>\n",
       "    </tr>\n",
       "    <tr>\n",
       "      <th>1</th>\n",
       "      <td>\\n\\n\\n\\nJuventus</td>\n",
       "      <td>2018 ~ 2022</td>\n",
       "    </tr>\n",
       "    <tr>\n",
       "      <th>2</th>\n",
       "      <td>\\n\\n\\n\\nAtlético Madrid</td>\n",
       "      <td>2014 ~ 2023</td>\n",
       "    </tr>\n",
       "  </tbody>\n",
       "</table>\n",
       "</div>"
      ],
      "text/plain": [
       "                      Club     Contract\n",
       "0     \\n\\n\\n\\nFC Barcelona  2004 ~ 2021\n",
       "1         \\n\\n\\n\\nJuventus  2018 ~ 2022\n",
       "2  \\n\\n\\n\\nAtlético Madrid  2014 ~ 2023"
      ]
     },
     "execution_count": 10,
     "metadata": {},
     "output_type": "execute_result"
    }
   ],
   "source": [
    "df[['Club', 'Contract']].head(3)"
   ]
  },
  {
   "cell_type": "code",
   "execution_count": 11,
   "id": "8966ec2b-0950-4a4d-bf39-6f128b131292",
   "metadata": {},
   "outputs": [],
   "source": [
    "df[['start_contract','end_contract']] = df['Contract'].str.split('~', expand=True)"
   ]
  },
  {
   "cell_type": "code",
   "execution_count": 12,
   "id": "add2c902-2168-437d-a0ab-41a97b46d092",
   "metadata": {},
   "outputs": [
    {
     "ename": "KeyError",
     "evalue": "\"['end_year'] not in index\"",
     "output_type": "error",
     "traceback": [
      "\u001b[1;31m---------------------------------------------------------------------------\u001b[0m",
      "\u001b[1;31mKeyError\u001b[0m                                  Traceback (most recent call last)",
      "Cell \u001b[1;32mIn[12], line 1\u001b[0m\n\u001b[1;32m----> 1\u001b[0m df[[\u001b[38;5;124m'\u001b[39m\u001b[38;5;124mstart_contract\u001b[39m\u001b[38;5;124m'\u001b[39m,\u001b[38;5;124m'\u001b[39m\u001b[38;5;124mend_year\u001b[39m\u001b[38;5;124m'\u001b[39m]]\n",
      "File \u001b[1;32m~\\anaconda3\\Lib\\site-packages\\pandas\\core\\frame.py:3767\u001b[0m, in \u001b[0;36mDataFrame.__getitem__\u001b[1;34m(self, key)\u001b[0m\n\u001b[0;32m   3765\u001b[0m     \u001b[38;5;28;01mif\u001b[39;00m is_iterator(key):\n\u001b[0;32m   3766\u001b[0m         key \u001b[38;5;241m=\u001b[39m \u001b[38;5;28mlist\u001b[39m(key)\n\u001b[1;32m-> 3767\u001b[0m     indexer \u001b[38;5;241m=\u001b[39m \u001b[38;5;28mself\u001b[39m\u001b[38;5;241m.\u001b[39mcolumns\u001b[38;5;241m.\u001b[39m_get_indexer_strict(key, \u001b[38;5;124m\"\u001b[39m\u001b[38;5;124mcolumns\u001b[39m\u001b[38;5;124m\"\u001b[39m)[\u001b[38;5;241m1\u001b[39m]\n\u001b[0;32m   3769\u001b[0m \u001b[38;5;66;03m# take() does not accept boolean indexers\u001b[39;00m\n\u001b[0;32m   3770\u001b[0m \u001b[38;5;28;01mif\u001b[39;00m \u001b[38;5;28mgetattr\u001b[39m(indexer, \u001b[38;5;124m\"\u001b[39m\u001b[38;5;124mdtype\u001b[39m\u001b[38;5;124m\"\u001b[39m, \u001b[38;5;28;01mNone\u001b[39;00m) \u001b[38;5;241m==\u001b[39m \u001b[38;5;28mbool\u001b[39m:\n",
      "File \u001b[1;32m~\\anaconda3\\Lib\\site-packages\\pandas\\core\\indexes\\base.py:5877\u001b[0m, in \u001b[0;36mIndex._get_indexer_strict\u001b[1;34m(self, key, axis_name)\u001b[0m\n\u001b[0;32m   5874\u001b[0m \u001b[38;5;28;01melse\u001b[39;00m:\n\u001b[0;32m   5875\u001b[0m     keyarr, indexer, new_indexer \u001b[38;5;241m=\u001b[39m \u001b[38;5;28mself\u001b[39m\u001b[38;5;241m.\u001b[39m_reindex_non_unique(keyarr)\n\u001b[1;32m-> 5877\u001b[0m \u001b[38;5;28mself\u001b[39m\u001b[38;5;241m.\u001b[39m_raise_if_missing(keyarr, indexer, axis_name)\n\u001b[0;32m   5879\u001b[0m keyarr \u001b[38;5;241m=\u001b[39m \u001b[38;5;28mself\u001b[39m\u001b[38;5;241m.\u001b[39mtake(indexer)\n\u001b[0;32m   5880\u001b[0m \u001b[38;5;28;01mif\u001b[39;00m \u001b[38;5;28misinstance\u001b[39m(key, Index):\n\u001b[0;32m   5881\u001b[0m     \u001b[38;5;66;03m# GH 42790 - Preserve name from an Index\u001b[39;00m\n",
      "File \u001b[1;32m~\\anaconda3\\Lib\\site-packages\\pandas\\core\\indexes\\base.py:5941\u001b[0m, in \u001b[0;36mIndex._raise_if_missing\u001b[1;34m(self, key, indexer, axis_name)\u001b[0m\n\u001b[0;32m   5938\u001b[0m     \u001b[38;5;28;01mraise\u001b[39;00m \u001b[38;5;167;01mKeyError\u001b[39;00m(\u001b[38;5;124mf\u001b[39m\u001b[38;5;124m\"\u001b[39m\u001b[38;5;124mNone of [\u001b[39m\u001b[38;5;132;01m{\u001b[39;00mkey\u001b[38;5;132;01m}\u001b[39;00m\u001b[38;5;124m] are in the [\u001b[39m\u001b[38;5;132;01m{\u001b[39;00maxis_name\u001b[38;5;132;01m}\u001b[39;00m\u001b[38;5;124m]\u001b[39m\u001b[38;5;124m\"\u001b[39m)\n\u001b[0;32m   5940\u001b[0m not_found \u001b[38;5;241m=\u001b[39m \u001b[38;5;28mlist\u001b[39m(ensure_index(key)[missing_mask\u001b[38;5;241m.\u001b[39mnonzero()[\u001b[38;5;241m0\u001b[39m]]\u001b[38;5;241m.\u001b[39munique())\n\u001b[1;32m-> 5941\u001b[0m \u001b[38;5;28;01mraise\u001b[39;00m \u001b[38;5;167;01mKeyError\u001b[39;00m(\u001b[38;5;124mf\u001b[39m\u001b[38;5;124m\"\u001b[39m\u001b[38;5;132;01m{\u001b[39;00mnot_found\u001b[38;5;132;01m}\u001b[39;00m\u001b[38;5;124m not in index\u001b[39m\u001b[38;5;124m\"\u001b[39m)\n",
      "\u001b[1;31mKeyError\u001b[0m: \"['end_year'] not in index\""
     ]
    }
   ],
   "source": [
    "df[['start_contract','end_year']]"
   ]
  },
  {
   "cell_type": "code",
   "execution_count": 13,
   "id": "8b646f5d-1f30-41c4-9f0c-07f27e552a27",
   "metadata": {},
   "outputs": [
    {
     "data": {
      "text/plain": [
       "array(['2004 ', '2018 ', '2014 ', '2015 ', '2017 ', '2016 ', '2013 ',\n",
       "       '2011 ', '2009 ', '2005 ', '2010 ', '2012 ', '2019 ', '2020 ',\n",
       "       '2008 ', '2007 ', 'Jun 30, 2021 On Loan', 'Free', '2002 ',\n",
       "       'Dec 31, 2020 On Loan', 'Jan 30, 2021 On Loan',\n",
       "       'Jun 30, 2022 On Loan', 'May 31, 2021 On Loan', '2006 ',\n",
       "       'Jul 5, 2021 On Loan', 'Dec 31, 2021 On Loan',\n",
       "       'Jul 1, 2021 On Loan', 'Jan 1, 2021 On Loan',\n",
       "       'Aug 31, 2021 On Loan', '2003 ', 'Jan 31, 2021 On Loan',\n",
       "       'Dec 30, 2021 On Loan', 'Jun 23, 2021 On Loan',\n",
       "       'Jan 3, 2021 On Loan', 'Nov 27, 2021 On Loan',\n",
       "       'Jan 17, 2021 On Loan', 'Jun 30, 2023 On Loan', '1998 ',\n",
       "       'Jul 31, 2021 On Loan', 'Nov 22, 2020 On Loan',\n",
       "       'May 31, 2022 On Loan', 'Dec 30, 2020 On Loan',\n",
       "       'Jan 4, 2021 On Loan', 'Nov 30, 2020 On Loan',\n",
       "       'Aug 1, 2021 On Loan'], dtype=object)"
      ]
     },
     "execution_count": 13,
     "metadata": {},
     "output_type": "execute_result"
    }
   ],
   "source": [
    "df.start_contract.unique()"
   ]
  },
  {
   "cell_type": "code",
   "execution_count": 14,
   "id": "f468720b-48fb-4ba3-9c3a-b6026568d146",
   "metadata": {},
   "outputs": [],
   "source": [
    "# define regular expressions to extract year value\n",
    "start_regex = r'(\\d{4})'\n",
    "end_regex = r'(On Loan|\\d{4})'"
   ]
  },
  {
   "cell_type": "code",
   "execution_count": 15,
   "id": "5d67dccf-4d18-4ab9-ade1-4672933f7f51",
   "metadata": {},
   "outputs": [],
   "source": [
    "# extract year value\n",
    "df['start_contract'] = df['Contract'].str.extract(start_regex)\n",
    "df['end_contract'] = df['Contract'].str.extract(end_regex)"
   ]
  },
  {
   "cell_type": "code",
   "execution_count": 16,
   "id": "814dce8a-267c-4992-8eac-081aecf3aac5",
   "metadata": {},
   "outputs": [],
   "source": [
    "df.end_contract = df.end_contract.apply(lambda x: df['start_contract'] if x == 'On Loan' else x)"
   ]
  },
  {
   "cell_type": "code",
   "execution_count": 17,
   "id": "4d6e5ddf-aca0-4e74-b6c8-13949e062326",
   "metadata": {},
   "outputs": [],
   "source": [
    "df.end_contract = pd.to_datetime(df.end_contract, format=('%Y'))\n",
    "df.start_contract = pd.to_datetime(df.start_contract, format=('%Y'))"
   ]
  },
  {
   "cell_type": "code",
   "execution_count": 18,
   "id": "d0f862ab-074d-442a-a5e6-26a2c5239339",
   "metadata": {},
   "outputs": [],
   "source": [
    "import datetime as dt\n",
    "# years only\n",
    "df.end_contract = df.end_contract.dt.strftime('%Y')\n",
    "df.start_contract = df.start_contract.dt.strftime('%Y')"
   ]
  },
  {
   "cell_type": "code",
   "execution_count": 19,
   "id": "bc442587-36e6-4479-a004-eeae64b4df70",
   "metadata": {},
   "outputs": [
    {
     "data": {
      "text/html": [
       "<div>\n",
       "<style scoped>\n",
       "    .dataframe tbody tr th:only-of-type {\n",
       "        vertical-align: middle;\n",
       "    }\n",
       "\n",
       "    .dataframe tbody tr th {\n",
       "        vertical-align: top;\n",
       "    }\n",
       "\n",
       "    .dataframe thead th {\n",
       "        text-align: right;\n",
       "    }\n",
       "</style>\n",
       "<table border=\"1\" class=\"dataframe\">\n",
       "  <thead>\n",
       "    <tr style=\"text-align: right;\">\n",
       "      <th></th>\n",
       "      <th>start_contract</th>\n",
       "      <th>end_contract</th>\n",
       "    </tr>\n",
       "  </thead>\n",
       "  <tbody>\n",
       "    <tr>\n",
       "      <th>0</th>\n",
       "      <td>2004</td>\n",
       "      <td>2004</td>\n",
       "    </tr>\n",
       "    <tr>\n",
       "      <th>1</th>\n",
       "      <td>2018</td>\n",
       "      <td>2018</td>\n",
       "    </tr>\n",
       "    <tr>\n",
       "      <th>2</th>\n",
       "      <td>2014</td>\n",
       "      <td>2014</td>\n",
       "    </tr>\n",
       "  </tbody>\n",
       "</table>\n",
       "</div>"
      ],
      "text/plain": [
       "  start_contract end_contract\n",
       "0           2004         2004\n",
       "1           2018         2018\n",
       "2           2014         2014"
      ]
     },
     "execution_count": 19,
     "metadata": {},
     "output_type": "execute_result"
    }
   ],
   "source": [
    "df[['start_contract','end_contract']].head(3)"
   ]
  },
  {
   "cell_type": "code",
   "execution_count": 32,
   "id": "1028a0b6-a41c-4a3e-8f95-0c92de53777e",
   "metadata": {},
   "outputs": [],
   "source": [
    "#remove '\\n' character in teams club\n",
    "df.Club = df.Club.replace('\\n','', regex=True)"
   ]
  },
  {
   "cell_type": "code",
   "execution_count": 35,
   "id": "6ca4de44-b7ae-4d65-9293-7694ab8a32e7",
   "metadata": {},
   "outputs": [
    {
     "data": {
      "text/plain": [
       "0               FC Barcelona\n",
       "1                   Juventus\n",
       "2            Atlético Madrid\n",
       "3            Manchester City\n",
       "4        Paris Saint-Germain\n",
       "                ...         \n",
       "18974             Wuhan Zall\n",
       "18975        Oldham Athletic\n",
       "18976             Derry City\n",
       "18977       Dalian YiFang FC\n",
       "18978       Dalian YiFang FC\n",
       "Name: Club, Length: 18979, dtype: object"
      ]
     },
     "execution_count": 35,
     "metadata": {},
     "output_type": "execute_result"
    }
   ],
   "source": [
    "df.Club"
   ]
  }
 ],
 "metadata": {
  "kernelspec": {
   "display_name": "Python 3 (ipykernel)",
   "language": "python",
   "name": "python3"
  },
  "language_info": {
   "codemirror_mode": {
    "name": "ipython",
    "version": 3
   },
   "file_extension": ".py",
   "mimetype": "text/x-python",
   "name": "python",
   "nbconvert_exporter": "python",
   "pygments_lexer": "ipython3",
   "version": "3.11.5"
  }
 },
 "nbformat": 4,
 "nbformat_minor": 5
}
